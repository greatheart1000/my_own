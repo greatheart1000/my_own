{
 "cells": [
  {
   "cell_type": "code",
   "execution_count": 36,
   "metadata": {},
   "outputs": [],
   "source": [
    "import json\n",
    "import os\n",
    "import numpy as np\n",
    "import pandas as pd\n",
    "import matplotlib.pyplot as plt\n",
    "plt.rcParams['font.sans-serif'] = ['SimHei']  # 用来正常显示中文标签\n",
    "plt.rcParams['axes.unicode_minus'] = False  # 用来正常显示负号\n"
   ]
  },
  {
   "cell_type": "code",
   "execution_count": 37,
   "metadata": {},
   "outputs": [],
   "source": [
    "def show_data(path,mode):\n",
    "    result=[]\n",
    "    with open(path,'r',encoding='utf-8') as f:\n",
    "        for line in f:\n",
    "            line=json.loads(line)\n",
    "            if mode=='train':\n",
    "                title,company,abstract,label=line['title'],line['assignee'],line['abstract'],line['label_id']\n",
    "                result.append([title,company,abstract,label])\n",
    "            else:\n",
    "                title,company,abstract=line['title'],line['assignee'],line['abstract']\n",
    "                result.append([title,company,abstract])\n",
    "    return result\n"
   ]
  },
  {
   "cell_type": "code",
   "execution_count": 38,
   "metadata": {},
   "outputs": [
    {
     "name": "stdout",
     "output_type": "stream",
     "text": [
      "958 20839\n"
     ]
    }
   ],
   "source": [
    "train_data=show_data('./train.json','train')\n",
    "test_data=show_data('./testA.json','test')\n",
    "# 训练集 958条 测试集20839条\n",
    "print(len(train_data),len(test_data))"
   ]
  },
  {
   "cell_type": "markdown",
   "metadata": {},
   "source": [
    "## label文本总共有36类"
   ]
  },
  {
   "cell_type": "code",
   "execution_count": 33,
   "metadata": {},
   "outputs": [
    {
     "data": {
      "text/plain": [
       "36"
      ]
     },
     "execution_count": 33,
     "metadata": {},
     "output_type": "execute_result"
    }
   ],
   "source": [
    "label_nums=len(set([i[3] for i in train_data]))\n",
    "label_nums"
   ]
  },
  {
   "cell_type": "code",
   "execution_count": 48,
   "metadata": {
    "collapsed": true
   },
   "outputs": [
    {
     "data": {
      "text/plain": [
       "{0: 33,\n",
       " 1: 19,\n",
       " 2: 183,\n",
       " 3: 33,\n",
       " 4: 44,\n",
       " 5: 36,\n",
       " 6: 47,\n",
       " 7: 48,\n",
       " 8: 39,\n",
       " 9: 25,\n",
       " 10: 52,\n",
       " 11: 54,\n",
       " 12: 7,\n",
       " 13: 16,\n",
       " 14: 19,\n",
       " 15: 33,\n",
       " 16: 17,\n",
       " 17: 13,\n",
       " 18: 16,\n",
       " 19: 13,\n",
       " 20: 25,\n",
       " 21: 12,\n",
       " 22: 5,\n",
       " 23: 22,\n",
       " 24: 29,\n",
       " 25: 16,\n",
       " 26: 17,\n",
       " 27: 22,\n",
       " 28: 8,\n",
       " 29: 7,\n",
       " 30: 13,\n",
       " 31: 4,\n",
       " 32: 5,\n",
       " 33: 8,\n",
       " 34: 12,\n",
       " 35: 6}"
      ]
     },
     "execution_count": 48,
     "metadata": {},
     "output_type": "execute_result"
    }
   ],
   "source": [
    "labe_nums={}\n",
    "label_list=[i[3] for i in train_data]\n",
    "for i in range(36):\n",
    "    labe_nums[i]=label_list.count(i)\n",
    "#每一个标签对应的数量\n",
    "labe_nums "
   ]
  },
  {
   "cell_type": "markdown",
   "metadata": {},
   "source": [
    "## 由上可知，样本不平衡，标签为2的有183，最少的类只有4个"
   ]
  },
  {
   "cell_type": "code",
   "execution_count": 47,
   "metadata": {},
   "outputs": [
    {
     "data": {
      "image/png": "[encoded data removed]",
      "text/plain": [
       "<Figure size 1440x432 with 1 Axes>"
      ]
     },
     "metadata": {
      "needs_background": "light"
     },
     "output_type": "display_data"
    }
   ],
   "source": [
    "y=list(labe_nums.values())\n",
    "plt.figure(figsize=(20,6))\n",
    "for i in range(36):\n",
    "    plt.bar(i,y[i])\n",
    "plt.title(\"样本分布\")\n",
    "plt.xlabel(\"标签种类\")\n",
    "plt.ylabel(\"样本数\")\n",
    "plt.show()"
   ]
  },
  {
   "cell_type": "code",
   "execution_count": null,
   "metadata": {},
   "outputs": [],
   "source": []
  }
 ],
 "metadata": {
  "kernelspec": {
   "display_name": "Python 3",
   "language": "python",
   "name": "python3"
  },
  "language_info": {
   "codemirror_mode": {
    "name": "ipython",
    "version": 3
   },
   "file_extension": ".py",
   "mimetype": "text/x-python",
   "name": "python",
   "nbconvert_exporter": "python",
   "pygments_lexer": "ipython3",
   "version": "3.8.8"
  }
 },
 "nbformat": 4,
 "nbformat_minor": 4
}
